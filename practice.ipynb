{
 "cells": [
  {
   "cell_type": "code",
   "execution_count": null,
   "metadata": {},
   "outputs": [],
   "source": [
    "\n",
    "import pandas as pd\n",
    "import numpy as np\n",
    "import matplotlib.pyplot as plt\n",
    "import seaborn as sns\n",
    "\n",
    "\n",
    "from sklearn.pipeline import Pipeline\n",
    "from sklearn.compose import ColumnTransformer\n",
    "from sklearn.preprocessing import LabelEncoder\n",
    "from sklearn.impute import SimpleImputer, KNNImputer"
   ]
  },
  {
   "cell_type": "code",
   "execution_count": null,
   "metadata": {},
   "outputs": [],
   "source": [
    "\n",
    "trainFeat = pd.read_csv('training_set_features.csv')\n",
    "labels = pd.read_csv('training_set_labels.csv') \n",
    "testFeat = pd.read_csv('test_set_features.csv') "
   ]
  },
  {
   "cell_type": "code",
   "execution_count": null,
   "metadata": {},
   "outputs": [],
   "source": [
    "\n",
    "print(trainFeat.info())\n",
    "sns.heatmap(trainFeat.isnull(), cmap='Blues', cbar=False, yticklabels=False, xticklabels=trainFeat.columns)"
   ]
  },
  {
   "cell_type": "code",
   "execution_count": null,
   "metadata": {},
   "outputs": [],
   "source": [
    "\n",
    "def process(feat):\n",
    "   \n",
    "    columns_to_drop = ['health_insurance', 'employment_industry', 'employment_occupation']\n",
    "    feat = feat.drop(columns=columns_to_drop, errors='ignore')\n",
    "    \n",
    "   \n",
    "    cat_cols = [col for col in feat.columns if feat[col].dtype == 'O']\n",
    "    cont_cols = [col for col in feat.columns if col not in cat_cols]\n",
    "\n",
    "    for col in cat_cols:\n",
    "        feat[col] = LabelEncoder().fit_transform(feat[col])\n",
    "    \n",
    "    numerical_transformer = Pipeline(steps=[\n",
    "        ('imputer', KNNImputer())\n",
    "    ])\n",
    "\n",
    "    categorical_transformer = Pipeline(steps=[\n",
    "        ('imputer', SimpleImputer(strategy='most_frequent'))\n",
    "    ])\n",
    "\n",
    "   \n",
    "    transformer = ColumnTransformer(\n",
    "        transformers=[\n",
    "            ('num', numerical_transformer, cont_cols),\n",
    "            ('cat', categorical_transformer, cat_cols)\n",
    "        ])\n",
    "\n",
    "   \n",
    "    feat_processed = transformer.fit_transform(feat)\n",
    "    \n",
    "   \n",
    "    processed_columns = cont_cols + cat_cols\n",
    "    feat_processed = pd.DataFrame(feat_processed, columns=processed_columns)\n",
    "    return feat_processed\n",
    "#applying the method to our training set\n",
    "trainFeat_processed = process(trainFeat)\n",
    "\n",
    "print(trainFeat_processed.shape)"
   ]
  },
  {
   "cell_type": "code",
   "execution_count": null,
   "metadata": {},
   "outputs": [],
   "source": [
    "\n",
    "sns.heatmap(trainFeat_processed.isnull(), cmap='Blues', cbar=False, yticklabels=False, xticklabels=trainFeat_processed.columns)"
   ]
  },
  {
   "cell_type": "code",
   "execution_count": null,
   "metadata": {},
   "outputs": [],
   "source": [
    "\n",
    "import matplotlib.pyplot as plt\n",
    "import seaborn as sns\n",
    "train_data = pd.concat([trainFeat_processed, labels[['xyz_vaccine', 'seasonal_vaccine']]], axis=1)\n",
    "correlation_matrix = train_data.corr()\n",
    "sns.heatmap(correlation_matrix, annot=True)\n",
    "plt.show()\n",
    "\n"
   ]
  },
  {
   "cell_type": "code",
   "execution_count": null,
   "metadata": {},
   "outputs": [],
   "source": [
    "\n",
    "from sklearn.ensemble import RandomForestClassifier\n",
    "from sklearn.linear_model import LogisticRegression\n",
    "from sklearn.svm import SVC\n",
    "from sklearn.multioutput import MultiOutputClassifier\n",
    "from sklearn.model_selection import train_test_split\n",
    "\n",
    "\n",
    "X = trainFeat_processed.iloc[:, 1:] \n",
    "y = labels[['xyz_vaccine', 'seasonal_vaccine']]\n",
    "X_train, X_test, y_train, y_test = train_test_split(X, y, test_size=0.2, random_state=42)\n",
    "\n",
    "\n",
    "model_rfc = MultiOutputClassifier(RandomForestClassifier(random_state=42))\n",
    "model_rfc.fit(X_train, y_train)\n",
    "\n",
    "\n",
    "logreg = MultiOutputClassifier(LogisticRegression(max_iter=10000, random_state=42))\n",
    "logreg.fit(X_train, y_train)\n",
    "\n",
    "\n",
    "svm = MultiOutputClassifier(SVC(probability=True, random_state=42))\n",
    "svm.fit(X_train, y_train)"
   ]
  },
  {
   "cell_type": "code",
   "execution_count": null,
   "metadata": {},
   "outputs": [],
   "source": [
    "from sklearn.metrics import roc_auc_score\n",
    "\n",
    "\n",
    "submission_format = pd.read_csv('submission_format.csv')\n",
    "\n",
    "y_pred_logreg = logreg.predict_proba(X_test)\n",
    "y_pred_rfc = model_rfc.predict_proba(X_test)\n",
    "y_pred_svm = svm.predict_proba(X_test)\n",
    "\n",
    "mean_roc_auc_svm = (roc_auc_score(y_test['xyz_vaccine'], y_pred_svm[0][:, 1]) +  roc_auc_score(y_test['seasonal_vaccine'], y_pred_svm[1][:, 1])) / 2\n",
    "mean_roc_auc_logreg = (roc_auc_score(y_test['xyz_vaccine'], y_pred_logreg[0][:, 1]) +  roc_auc_score(y_test['seasonal_vaccine'], y_pred_logreg[1][:, 1])) / 2\n",
    "mean_roc_auc_rfc = (roc_auc_score(y_test['xyz_vaccine'], y_pred_rfc[0][:, 1]) +  roc_auc_score(y_test['seasonal_vaccine'], y_pred_rfc[1][:, 1])) / 2\n",
    "\n",
    "\n",
    "print(f'Mean ROC AUC are SVM : {mean_roc_auc_svm}, LogReg: {mean_roc_auc_logreg}, RFC: {mean_roc_auc_rfc}')"
   ]
  },
  {
   "cell_type": "code",
   "execution_count": null,
   "metadata": {},
   "outputs": [],
   "source": [
    "\n",
    "testFeat_processed = process(testFeat)\n",
    "\n",
    "test = testFeat_processed.iloc[: , 1:] \n",
    "\n",
    "y_pred_rfc = svm.predict_proba(test) \n",
    "\n",
    "submission_format['xyz_vaccine'] = y_pred_rfc[0][:, 1]  \n",
    "submission_format['seasonal_vaccine'] = y_pred_rfc[1][:, 1] \n",
    "\n",
    "submission_format.to_csv('submit_final_RFC.csv', index=False)"
   ]
  }
 ],
 "metadata": {
  "language_info": {
   "name": "python"
  }
 },
 "nbformat": 4,
 "nbformat_minor": 2
}
